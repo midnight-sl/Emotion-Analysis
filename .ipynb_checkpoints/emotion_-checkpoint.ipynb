{
 "cells": [
  {
   "cell_type": "code",
   "execution_count": 23,
   "metadata": {},
   "outputs": [],
   "source": [
    "import spacy\n",
    "from typing import Tuple, Dict\n",
    "from collections import defaultdict\n",
    "import pandas as pd\n",
    "import re\n",
    "import numpy as np\n",
    "%matplotlib inline\n",
    "import matplotlib.pyplot as plt\n",
    "plt.rcParams['font.size'] = 14"
   ]
  },
  {
   "cell_type": "code",
   "execution_count": 2,
   "metadata": {},
   "outputs": [],
   "source": [
    "nlp = spacy.load('en_core_web_md')\n",
    "\n",
    "PATH_TO_FOUR_CLASSES_DATA = './NRC-Sentiment-Emotion-Lexicons/' \\\n",
    "                            'NRC-Affect-Intensity-Lexicon/NRC-AffectIntensity-Lexicon.csv'\n",
    "\n",
    "PATH_TO_EIGHT_CLASSES_DATA = './NRC-Sentiment-Emotion-Lexicons/' \\\n",
    "                             'NRC-Emotion-Lexicon-v0.92/NRC-Emotion-Lexicon-Wordlevel-v0.92.csv'\n",
    "\n",
    "POS_MULTIPLIER = {'ADJ': 0.9, 'ADV': 0.8, 'VERB': 0.75, 'NOUN': 0.7}\n",
    "\n",
    "# reading first dataset\n",
    "four_classes = pd.read_csv(PATH_TO_FOUR_CLASSES_DATA, names=['token', 'score', 'label'], sep=r\"\\s+\")\n",
    "# reading second dataset\n",
    "eight_classes = pd.read_csv(PATH_TO_EIGHT_CLASSES_DATA, names=['token', 'label', 'score'], sep=r\"\\s+\")"
   ]
  },
  {
   "cell_type": "code",
   "execution_count": 3,
   "metadata": {},
   "outputs": [],
   "source": [
    "# clean text\n",
    "def clean_text(text: str) -> str:\n",
    "    doc = nlp(text)\n",
    "    # removing stop words and punctuation\n",
    "    tokens = ' '.join(\n",
    "        [re.sub('\\n', '', token.text.lower()) for token in doc if not token.is_stop and not token.is_punct])\n",
    "    return tokens"
   ]
  },
  {
   "cell_type": "code",
   "execution_count": 4,
   "metadata": {},
   "outputs": [],
   "source": [
    "# normalization of each result\n",
    "def scale_dict_result(dict_):\n",
    "    values = dict_.values()\n",
    "    min_ = min(values)\n",
    "    max_ = max(values)\n",
    "    return {key: ((v - min_) / (max_ - min_)) for (key, v) in dict_.items()}"
   ]
  },
  {
   "cell_type": "code",
   "execution_count": 5,
   "metadata": {},
   "outputs": [],
   "source": [
    "def eval_text(text: str, dataset: pd.DataFrame, multiply: bool) -> Tuple:\n",
    "    doc = nlp(text)\n",
    "    emotional_class = defaultdict(list)\n",
    "    result_dict = {}\n",
    "    for token in doc:\n",
    "        multiplier = 1\n",
    "        if multiply:\n",
    "            # part of speech\n",
    "            pos = token.pos_\n",
    "            try:\n",
    "                multiplier = POS_MULTIPLIER[pos]\n",
    "            except KeyError:\n",
    "                continue\n",
    "        sub_df = dataset.loc[dataset.token == token.text]\n",
    "        if not sub_df.empty:\n",
    "            for index, row in sub_df.iterrows():\n",
    "                tmp = [row['token'], float(row['score'])*multiplier]\n",
    "                if tmp not in emotional_class[row['label']]:\n",
    "                    emotional_class[row['label']].append(tmp)\n",
    "    if 'positive' in emotional_class:\n",
    "        emotional_class.pop('positive')\n",
    "        emotional_class.pop('negative')\n",
    "    # probabilities calc\n",
    "    s = 0\n",
    "    for k, _ in emotional_class.items():\n",
    "        result_dict[k] = sum(map(lambda x: x[1], emotional_class[k]))\n",
    "        s += result_dict[k]\n",
    "    for k, v in result_dict.items():\n",
    "        result_dict[k] = v / s\n",
    "    return emotional_class, result_dict\n"
   ]
  },
  {
   "cell_type": "code",
   "execution_count": 6,
   "metadata": {},
   "outputs": [],
   "source": [
    "# load text\n",
    "filename = 'testText.txt'\n",
    "file = open(filename, 'rt')\n",
    "text = file.read()\n",
    "file.close()\n"
   ]
  },
  {
   "cell_type": "code",
   "execution_count": 7,
   "metadata": {},
   "outputs": [],
   "source": [
    "text = clean_text(text)\n",
    "result1 = eval_text(text, four_classes, multiply=False)[1]\n",
    "result2 = eval_text(text, eight_classes, multiply=True)[1]\n",
    "\n",
    "# taking max values from each dataset, result2 is wider\n",
    "aggregated_result = result2.copy()\n",
    "for k, v in aggregated_result.items():\n",
    "    if k in result1:\n",
    "        aggregated_result[k] = max(result1[k], aggregated_result[k])\n",
    "\n",
    "# labeling via min between emotional classes\n",
    "labels = dict()\n",
    "labels['high_positive'] = max([min(aggregated_result['joy'], aggregated_result['surprise']),\n",
    "                               min(aggregated_result['joy'], aggregated_result['trust'])])\n",
    "labels['positive'] = max([min(aggregated_result['joy'], aggregated_result['anticipation'])])\n",
    "labels['neutral'] = max([min(aggregated_result['trust'], aggregated_result['anticipation']),\n",
    "                         min(aggregated_result['surprise'], aggregated_result['anticipation'])])\n",
    "labels['negative'] = max([min(aggregated_result['sadness'], aggregated_result['fear']),\n",
    "                          min(aggregated_result['fear'], aggregated_result['anticipation'])])\n",
    "labels['high_negative'] = max([min(aggregated_result['anger'], aggregated_result['disgust']),\n",
    "                               min(aggregated_result['anger'], aggregated_result['fear']),\n",
    "                               min(aggregated_result['disgust'], aggregated_result['fear'])])"
   ]
  },
  {
   "cell_type": "code",
   "execution_count": 8,
   "metadata": {},
   "outputs": [
    {
     "data": {
      "text/plain": [
       "{'high_negative': 0.2018140589569161,\n",
       " 'high_positive': 0.06802721088435373,\n",
       " 'negative': 0.23356009070294786,\n",
       " 'neutral': 0.06802721088435373,\n",
       " 'positive': 0.10204081632653061}"
      ]
     },
     "metadata": {},
     "output_type": "display_data"
    }
   ],
   "source": [
    "display(labels)"
   ]
  },
  {
   "cell_type": "code",
   "execution_count": 9,
   "metadata": {},
   "outputs": [],
   "source": [
    "from skfuzzy import trimf\n",
    "x = np.linspace(start = -1, stop = 1, num = 50)"
   ]
  },
  {
   "cell_type": "code",
   "execution_count": 10,
   "metadata": {},
   "outputs": [],
   "source": [
    "m_functions = {}\n",
    "m_functions['high_negative'] = trimf(x, [-1, -1, -.5]) # high negative mem. function\n",
    "m_functions['negative'] = trimf(x, [-1, -0.5, 0]) # negative mem. function\n",
    "m_functions['neutral'] = trimf(x, [-.5, 0, .5]) # neutral mem. function\n",
    "m_functions['positive'] = trimf(x, [0, .5, 1]) # positive mem. function\n",
    "m_functions['high_positive'] = trimf(x, [.5, 1, 1]) # high positive mem. function"
   ]
  },
  {
   "cell_type": "code",
   "execution_count": 11,
   "metadata": {},
   "outputs": [
    {
     "data": {
      "text/plain": [
       "array([0.20181406, 0.18533944, 0.16886482, 0.15239021, 0.13591559,\n",
       "       0.11944097, 0.11439678, 0.13346291, 0.15252904, 0.17159517,\n",
       "       0.1906613 , 0.20972743, 0.22879356, 0.21926049, 0.20019436,\n",
       "       0.18112823, 0.1620621 , 0.14299597, 0.12392984, 0.10486371,\n",
       "       0.08579758, 0.06673145, 0.05414411, 0.05969735, 0.06525059,\n",
       "       0.06525059, 0.05969735, 0.05414411, 0.04859086, 0.04303762,\n",
       "       0.04581424, 0.05414411, 0.06247397, 0.07080383, 0.07913369,\n",
       "       0.08746356, 0.09579342, 0.09995835, 0.09162849, 0.08329863,\n",
       "       0.07496876, 0.0666389 , 0.05830904, 0.04997918, 0.04164931,\n",
       "       0.04581424, 0.05136749, 0.05692073, 0.06247397, 0.06802721])"
      ]
     },
     "metadata": {},
     "output_type": "display_data"
    }
   ],
   "source": [
    "mu_ = [m_functions[k] for k,_ in labels.items()]\n",
    "mu_i = [labels[k] * m_functions[k] for k,_ in labels.items()]\n",
    "mu_s = np.max(mu_i, axis=0)\n",
    "display(mu_s)"
   ]
  },
  {
   "cell_type": "code",
   "execution_count": 12,
   "metadata": {},
   "outputs": [
    {
     "data": {
      "text/plain": [
       "[array([0.        , 0.        , 0.        , 0.        , 0.        ,\n",
       "        0.        , 0.        , 0.        , 0.        , 0.        ,\n",
       "        0.        , 0.        , 0.        , 0.        , 0.        ,\n",
       "        0.        , 0.        , 0.        , 0.        , 0.        ,\n",
       "        0.        , 0.        , 0.        , 0.        , 0.        ,\n",
       "        0.        , 0.        , 0.        , 0.        , 0.        ,\n",
       "        0.        , 0.        , 0.        , 0.        , 0.        ,\n",
       "        0.        , 0.        , 0.00138831, 0.00694155, 0.01249479,\n",
       "        0.01804804, 0.02360128, 0.02915452, 0.03470776, 0.040261  ,\n",
       "        0.04581424, 0.05136749, 0.05692073, 0.06247397, 0.06802721]),\n",
       " array([0.        , 0.        , 0.        , 0.        , 0.        ,\n",
       "        0.        , 0.        , 0.        , 0.        , 0.        ,\n",
       "        0.        , 0.        , 0.        , 0.        , 0.        ,\n",
       "        0.        , 0.        , 0.        , 0.        , 0.        ,\n",
       "        0.        , 0.        , 0.        , 0.        , 0.        ,\n",
       "        0.00416493, 0.01249479, 0.02082466, 0.02915452, 0.03748438,\n",
       "        0.04581424, 0.05414411, 0.06247397, 0.07080383, 0.07913369,\n",
       "        0.08746356, 0.09579342, 0.09995835, 0.09162849, 0.08329863,\n",
       "        0.07496876, 0.0666389 , 0.05830904, 0.04997918, 0.04164931,\n",
       "        0.03331945, 0.02498959, 0.01665973, 0.00832986, 0.        ]),\n",
       " array([0.        , 0.        , 0.        , 0.        , 0.        ,\n",
       "        0.        , 0.        , 0.        , 0.        , 0.        ,\n",
       "        0.        , 0.        , 0.        , 0.00416493, 0.00971817,\n",
       "        0.01527141, 0.02082466, 0.0263779 , 0.03193114, 0.03748438,\n",
       "        0.04303762, 0.04859086, 0.05414411, 0.05969735, 0.06525059,\n",
       "        0.06525059, 0.05969735, 0.05414411, 0.04859086, 0.04303762,\n",
       "        0.03748438, 0.03193114, 0.0263779 , 0.02082466, 0.01527141,\n",
       "        0.00971817, 0.00416493, 0.        , 0.        , 0.        ,\n",
       "        0.        , 0.        , 0.        , 0.        , 0.        ,\n",
       "        0.        , 0.        , 0.        , 0.        , 0.        ]),\n",
       " array([0.        , 0.01906613, 0.03813226, 0.05719839, 0.07626452,\n",
       "        0.09533065, 0.11439678, 0.13346291, 0.15252904, 0.17159517,\n",
       "        0.1906613 , 0.20972743, 0.22879356, 0.21926049, 0.20019436,\n",
       "        0.18112823, 0.1620621 , 0.14299597, 0.12392984, 0.10486371,\n",
       "        0.08579758, 0.06673145, 0.04766532, 0.02859919, 0.00953306,\n",
       "        0.        , 0.        , 0.        , 0.        , 0.        ,\n",
       "        0.        , 0.        , 0.        , 0.        , 0.        ,\n",
       "        0.        , 0.        , 0.        , 0.        , 0.        ,\n",
       "        0.        , 0.        , 0.        , 0.        , 0.        ,\n",
       "        0.        , 0.        , 0.        , 0.        , 0.        ]),\n",
       " array([0.20181406, 0.18533944, 0.16886482, 0.15239021, 0.13591559,\n",
       "        0.11944097, 0.10296636, 0.08649174, 0.07001712, 0.05354251,\n",
       "        0.03706789, 0.02059327, 0.00411865, 0.        , 0.        ,\n",
       "        0.        , 0.        , 0.        , 0.        , 0.        ,\n",
       "        0.        , 0.        , 0.        , 0.        , 0.        ,\n",
       "        0.        , 0.        , 0.        , 0.        , 0.        ,\n",
       "        0.        , 0.        , 0.        , 0.        , 0.        ,\n",
       "        0.        , 0.        , 0.        , 0.        , 0.        ,\n",
       "        0.        , 0.        , 0.        , 0.        , 0.        ,\n",
       "        0.        , 0.        , 0.        , 0.        , 0.        ])]"
      ]
     },
     "metadata": {},
     "output_type": "display_data"
    }
   ],
   "source": [
    "display(mu_i)"
   ]
  },
  {
   "cell_type": "code",
   "execution_count": 13,
   "metadata": {},
   "outputs": [
    {
     "data": {
      "text/plain": [
       "-0.2294926323735252"
      ]
     },
     "metadata": {},
     "output_type": "display_data"
    }
   ],
   "source": [
    "# mass center calculation\n",
    "y = np.trapz(x * mu_s, x=x) / np.trapz(mu_s, x=x)\n",
    "display(y)"
   ]
  },
  {
   "cell_type": "code",
   "execution_count": 39,
   "metadata": {},
   "outputs": [
    {
     "data": {
      "text/plain": [
       "['high_negative', 'negative', 'neutral', 'positive', 'high_positive']"
      ]
     },
     "metadata": {},
     "output_type": "display_data"
    }
   ],
   "source": [
    "label = list(labels.keys())\n",
    "label.reverse()\n",
    "display(label)"
   ]
  },
  {
   "cell_type": "code",
   "execution_count": 50,
   "metadata": {},
   "outputs": [
    {
     "data": {
      "text/plain": [
       "<matplotlib.legend.Legend at 0x7f3a60cccc88>"
      ]
     },
     "execution_count": 50,
     "metadata": {},
     "output_type": "execute_result"
    },
    {
     "data": {
      "image/png": "[encoded data removed]",
      "text/plain": [
       "<Figure size 432x288 with 1 Axes>"
      ]
     },
     "metadata": {
      "needs_background": "light"
     },
     "output_type": "display_data"
    }
   ],
   "source": [
    "# ploting results\n",
    "k = 0\n",
    "colors = ['b', 'y', 'r', 'c', 'm']\n",
    "for item in zip(mu_, mu_i):\n",
    "    plt.plot(x, item[0], label=label[k], color=colors[k])\n",
    "    plt.plot(x, item[1], color=colors[k])\n",
    "    plt.fill_between(x, 0, item[1], facecolor='grey')\n",
    "    k += 1\n",
    "plt.axvline(x=y, ymin=0, ymax=1, color='black', linewidth=2, label='integral value', linestyle='-.')\n",
    "plt.legend(bbox_to_anchor=(1.05, 1), loc='upper left', borderaxespad=0.)"
   ]
  },
  {
   "cell_type": "code",
   "execution_count": null,
   "metadata": {},
   "outputs": [],
   "source": []
  }
 ],
 "metadata": {
  "kernelspec": {
   "display_name": "Python 3",
   "language": "python",
   "name": "python3"
  },
  "language_info": {
   "codemirror_mode": {
    "name": "ipython",
    "version": 3
   },
   "file_extension": ".py",
   "mimetype": "text/x-python",
   "name": "python",
   "nbconvert_exporter": "python",
   "pygments_lexer": "ipython3",
   "version": "3.6.9"
  }
 },
 "nbformat": 4,
 "nbformat_minor": 2
}
