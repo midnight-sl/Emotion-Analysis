{
 "cells": [
  {
   "cell_type": "code",
   "execution_count": 16,
   "metadata": {},
   "outputs": [],
   "source": [
    "import spacy\n",
    "from typing import Tuple, Dict\n",
    "from collections import defaultdict\n",
    "import pandas as pd\n",
    "import re\n",
    "import numpy as np\n",
    "%matplotlib inline\n",
    "import matplotlib.pyplot as plt\n",
    "plt.rcParams['font.size'] = 14"
   ]
  },
  {
   "cell_type": "code",
   "execution_count": 17,
   "metadata": {},
   "outputs": [],
   "source": [
    "nlp = spacy.load('en_core_web_md')\n",
    "\n",
    "PATH_TO_FOUR_CLASSES_DATA = './NRC-Sentiment-Emotion-Lexicons/' \\\n",
    "                            'NRC-Affect-Intensity-Lexicon/NRC-AffectIntensity-Lexicon.csv'\n",
    "\n",
    "PATH_TO_EIGHT_CLASSES_DATA = './NRC-Sentiment-Emotion-Lexicons/' \\\n",
    "                             'NRC-Emotion-Lexicon-v0.92/NRC-Emotion-Lexicon-Wordlevel-v0.92.csv'\n",
    "\n",
    "POS_MULTIPLIER = {'ADJ': 1, 'ADV': 0.8, 'VERB': 0.6, 'NOUN': 0.4}\n",
    "\n",
    "# reading first dataset\n",
    "four_classes = pd.read_csv(PATH_TO_FOUR_CLASSES_DATA, names=['token', 'score', 'label'], sep=r\"\\s+\")\n",
    "# reading second dataset\n",
    "eight_classes = pd.read_csv(PATH_TO_EIGHT_CLASSES_DATA, names=['token', 'label', 'score'], sep=r\"\\s+\")"
   ]
  },
  {
   "cell_type": "code",
   "execution_count": 18,
   "metadata": {},
   "outputs": [],
   "source": [
    "# clean text\n",
    "def clean_text(text: str) -> str:\n",
    "    doc = nlp(text)\n",
    "    # removing stop words and punctuation\n",
    "    tokens = ' '.join(\n",
    "        [re.sub('\\n', '', token.text.lower()) for token in doc if not token.is_stop and not token.is_punct])\n",
    "    return tokens"
   ]
  },
  {
   "cell_type": "code",
   "execution_count": 19,
   "metadata": {},
   "outputs": [],
   "source": [
    "# normalization of each result\n",
    "def scale_dict_result(dict_):\n",
    "    values = dict_.values()\n",
    "    min_ = min(values)\n",
    "    max_ = max(values)\n",
    "    return {key: ((v - min_) / (max_ - min_)) for (key, v) in dict_.items()}"
   ]
  },
  {
   "cell_type": "code",
   "execution_count": 20,
   "metadata": {},
   "outputs": [],
   "source": [
    "def eval_text(text: str, dataset: pd.DataFrame, multiply: bool) -> Tuple:\n",
    "    doc = nlp(text)\n",
    "    emotional_class = defaultdict(list)\n",
    "    result_dict = {}\n",
    "    for token in doc:\n",
    "        multiplier = 1\n",
    "        if multiply:\n",
    "            # part of speech\n",
    "            pos = token.pos_\n",
    "            try:\n",
    "                multiplier = POS_MULTIPLIER[pos]\n",
    "            except KeyError:\n",
    "                continue\n",
    "        sub_df = dataset.loc[dataset.token == token.text]\n",
    "        if not sub_df.empty:\n",
    "            for index, row in sub_df.iterrows():\n",
    "                tmp = [row['token'], float(row['score'])*multiplier]\n",
    "                if tmp not in emotional_class[row['label']]:\n",
    "                    emotional_class[row['label']].append(tmp)\n",
    "    if 'positive' in emotional_class:\n",
    "        emotional_class.pop('positive')\n",
    "        emotional_class.pop('negative')\n",
    "    # probabilities calc\n",
    "    s = 0\n",
    "    for k, _ in emotional_class.items():\n",
    "        result_dict[k] = sum(map(lambda x: x[1], emotional_class[k]))\n",
    "        s += result_dict[k]\n",
    "    for k, v in result_dict.items():\n",
    "        result_dict[k] = v / s\n",
    "    return emotional_class, result_dict\n"
   ]
  },
  {
   "cell_type": "code",
   "execution_count": 21,
   "metadata": {},
   "outputs": [],
   "source": [
    "# load text\n",
    "filename = 'sampleLove.txt'\n",
    "file = open(filename, 'rt')\n",
    "text = file.read()\n",
    "file.close()\n"
   ]
  },
  {
   "cell_type": "code",
   "execution_count": 22,
   "metadata": {},
   "outputs": [],
   "source": [
    "text = clean_text(text)\n",
    "result1 = eval_text(text, four_classes, multiply=False)[1]\n",
    "result2 = eval_text(text, eight_classes, multiply=True)[1]\n",
    "\n",
    "# taking max values from each dataset, result2 is wider\n",
    "aggregated_result = result2.copy()\n",
    "for k, v in aggregated_result.items():\n",
    "    if k in result1:\n",
    "        aggregated_result[k] = max(result1[k], aggregated_result[k])\n",
    "\n",
    "# labeling via min between emotional classes\n",
    "labels = dict()\n",
    "labels['high_positive'] = max([min(aggregated_result['joy'], aggregated_result['surprise']),\n",
    "                               min(aggregated_result['joy'], aggregated_result['trust'])])\n",
    "labels['positive'] = max([min(aggregated_result['joy'], aggregated_result['anticipation'])])\n",
    "labels['neutral'] = max([min(aggregated_result['trust'], aggregated_result['anticipation']),\n",
    "                         min(aggregated_result['surprise'], aggregated_result['anticipation'])])\n",
    "labels['negative'] = max([min(aggregated_result['sadness'], aggregated_result['fear']),\n",
    "                          min(aggregated_result['fear'], aggregated_result['anticipation'])])\n",
    "labels['high_negative'] = max([min(aggregated_result['anger'], aggregated_result['disgust']),\n",
    "                               min(aggregated_result['anger'], aggregated_result['fear']),\n",
    "                               min(aggregated_result['disgust'], aggregated_result['fear'])])"
   ]
  },
  {
   "cell_type": "code",
   "execution_count": 23,
   "metadata": {},
   "outputs": [
    {
     "data": {
      "text/plain": [
       "{'high_positive': 0.0,\n",
       " 'positive': 0.0,\n",
       " 'neutral': 0.0,\n",
       " 'negative': 0.0,\n",
       " 'high_negative': 0.0}"
      ]
     },
     "metadata": {},
     "output_type": "display_data"
    }
   ],
   "source": [
    "display(labels)"
   ]
  },
  {
   "cell_type": "code",
   "execution_count": 24,
   "metadata": {},
   "outputs": [],
   "source": [
    "from skfuzzy import trimf, trapmf\n",
    "x = np.linspace(start = -1, stop = 1, num = 100)"
   ]
  },
  {
   "cell_type": "code",
   "execution_count": 25,
   "metadata": {},
   "outputs": [],
   "source": [
    "m_functions = {}\n",
    "m_functions['high_negative'] = trapmf(x, [-1, -1, -.8, -.2]) # high negative mem. function\n",
    "m_functions['negative'] = trimf(x, [-.8, -0.2, 0]) # negative mem. function\n",
    "m_functions['neutral'] = trimf(x, [-.2, 0, .2]) # neutral mem. function\n",
    "m_functions['positive'] = trimf(x, [0, .2, .8]) # positive mem. function\n",
    "m_functions['high_positive'] = trapmf(x, [.2, .8, 1, 1]) # high positive mem. function"
   ]
  },
  {
   "cell_type": "code",
   "execution_count": 26,
   "metadata": {},
   "outputs": [
    {
     "data": {
      "text/plain": [
       "array([0., 0., 0., 0., 0., 0., 0., 0., 0., 0., 0., 0., 0., 0., 0., 0., 0.,\n",
       "       0., 0., 0., 0., 0., 0., 0., 0., 0., 0., 0., 0., 0., 0., 0., 0., 0.,\n",
       "       0., 0., 0., 0., 0., 0., 0., 0., 0., 0., 0., 0., 0., 0., 0., 0., 0.,\n",
       "       0., 0., 0., 0., 0., 0., 0., 0., 0., 0., 0., 0., 0., 0., 0., 0., 0.,\n",
       "       0., 0., 0., 0., 0., 0., 0., 0., 0., 0., 0., 0., 0., 0., 0., 0., 0.,\n",
       "       0., 0., 0., 0., 0., 0., 0., 0., 0., 0., 0., 0., 0., 0., 0.])"
      ]
     },
     "metadata": {},
     "output_type": "display_data"
    }
   ],
   "source": [
    "mu_ = [m_functions[k] for k,_ in labels.items()]\n",
    "mu_i = []\n",
    "mu_i = [np.minimum(labels[k], m_functions[k]) for k,_ in labels.items()]\n",
    "mu_s = np.max(mu_i, axis=0)\n",
    "display(mu_s)"
   ]
  },
  {
   "cell_type": "code",
   "execution_count": 27,
   "metadata": {},
   "outputs": [
    {
     "data": {
      "text/plain": [
       "[array([0., 0., 0., 0., 0., 0., 0., 0., 0., 0., 0., 0., 0., 0., 0., 0., 0.,\n",
       "        0., 0., 0., 0., 0., 0., 0., 0., 0., 0., 0., 0., 0., 0., 0., 0., 0.,\n",
       "        0., 0., 0., 0., 0., 0., 0., 0., 0., 0., 0., 0., 0., 0., 0., 0., 0.,\n",
       "        0., 0., 0., 0., 0., 0., 0., 0., 0., 0., 0., 0., 0., 0., 0., 0., 0.,\n",
       "        0., 0., 0., 0., 0., 0., 0., 0., 0., 0., 0., 0., 0., 0., 0., 0., 0.,\n",
       "        0., 0., 0., 0., 0., 0., 0., 0., 0., 0., 0., 0., 0., 0., 0.]),\n",
       " array([0., 0., 0., 0., 0., 0., 0., 0., 0., 0., 0., 0., 0., 0., 0., 0., 0.,\n",
       "        0., 0., 0., 0., 0., 0., 0., 0., 0., 0., 0., 0., 0., 0., 0., 0., 0.,\n",
       "        0., 0., 0., 0., 0., 0., 0., 0., 0., 0., 0., 0., 0., 0., 0., 0., 0.,\n",
       "        0., 0., 0., 0., 0., 0., 0., 0., 0., 0., 0., 0., 0., 0., 0., 0., 0.,\n",
       "        0., 0., 0., 0., 0., 0., 0., 0., 0., 0., 0., 0., 0., 0., 0., 0., 0.,\n",
       "        0., 0., 0., 0., 0., 0., 0., 0., 0., 0., 0., 0., 0., 0., 0.]),\n",
       " array([0., 0., 0., 0., 0., 0., 0., 0., 0., 0., 0., 0., 0., 0., 0., 0., 0.,\n",
       "        0., 0., 0., 0., 0., 0., 0., 0., 0., 0., 0., 0., 0., 0., 0., 0., 0.,\n",
       "        0., 0., 0., 0., 0., 0., 0., 0., 0., 0., 0., 0., 0., 0., 0., 0., 0.,\n",
       "        0., 0., 0., 0., 0., 0., 0., 0., 0., 0., 0., 0., 0., 0., 0., 0., 0.,\n",
       "        0., 0., 0., 0., 0., 0., 0., 0., 0., 0., 0., 0., 0., 0., 0., 0., 0.,\n",
       "        0., 0., 0., 0., 0., 0., 0., 0., 0., 0., 0., 0., 0., 0., 0.]),\n",
       " array([0., 0., 0., 0., 0., 0., 0., 0., 0., 0., 0., 0., 0., 0., 0., 0., 0.,\n",
       "        0., 0., 0., 0., 0., 0., 0., 0., 0., 0., 0., 0., 0., 0., 0., 0., 0.,\n",
       "        0., 0., 0., 0., 0., 0., 0., 0., 0., 0., 0., 0., 0., 0., 0., 0., 0.,\n",
       "        0., 0., 0., 0., 0., 0., 0., 0., 0., 0., 0., 0., 0., 0., 0., 0., 0.,\n",
       "        0., 0., 0., 0., 0., 0., 0., 0., 0., 0., 0., 0., 0., 0., 0., 0., 0.,\n",
       "        0., 0., 0., 0., 0., 0., 0., 0., 0., 0., 0., 0., 0., 0., 0.]),\n",
       " array([0., 0., 0., 0., 0., 0., 0., 0., 0., 0., 0., 0., 0., 0., 0., 0., 0.,\n",
       "        0., 0., 0., 0., 0., 0., 0., 0., 0., 0., 0., 0., 0., 0., 0., 0., 0.,\n",
       "        0., 0., 0., 0., 0., 0., 0., 0., 0., 0., 0., 0., 0., 0., 0., 0., 0.,\n",
       "        0., 0., 0., 0., 0., 0., 0., 0., 0., 0., 0., 0., 0., 0., 0., 0., 0.,\n",
       "        0., 0., 0., 0., 0., 0., 0., 0., 0., 0., 0., 0., 0., 0., 0., 0., 0.,\n",
       "        0., 0., 0., 0., 0., 0., 0., 0., 0., 0., 0., 0., 0., 0., 0.])]"
      ]
     },
     "metadata": {},
     "output_type": "display_data"
    }
   ],
   "source": [
    "display(mu_i)"
   ]
  },
  {
   "cell_type": "code",
   "execution_count": 29,
   "metadata": {},
   "outputs": [
    {
     "name": "stderr",
     "output_type": "stream",
     "text": [
      "c:\\users\\sofij\\appdata\\local\\programs\\python\\python37\\lib\\site-packages\\ipykernel_launcher.py:2: RuntimeWarning: invalid value encountered in double_scalars\n",
      "  \n"
     ]
    },
    {
     "data": {
      "text/plain": [
       "nan"
      ]
     },
     "metadata": {},
     "output_type": "display_data"
    }
   ],
   "source": [
    "# mass center calculation\n",
    "y = np.trapz(x * mu_s, x=x) / np.trapz(mu_s, x=x)\n",
    "display(y)"
   ]
  },
  {
   "cell_type": "code",
   "execution_count": 30,
   "metadata": {},
   "outputs": [
    {
     "data": {
      "text/plain": [
       "['high_positive', 'positive', 'neutral', 'negative', 'high_negative']"
      ]
     },
     "metadata": {},
     "output_type": "display_data"
    }
   ],
   "source": [
    "label = list(labels.keys())\n",
    "#label.reverse()\n",
    "display(label)"
   ]
  },
  {
   "cell_type": "code",
   "execution_count": 31,
   "metadata": {},
   "outputs": [
    {
     "data": {
      "text/plain": [
       "<matplotlib.legend.Legend at 0x1e4e15fa2c8>"
      ]
     },
     "execution_count": 31,
     "metadata": {},
     "output_type": "execute_result"
    },
    {
     "data": {
      "image/png": "[encoded data removed]",
      "text/plain": [
       "<Figure size 432x288 with 1 Axes>"
      ]
     },
     "metadata": {
      "needs_background": "light"
     },
     "output_type": "display_data"
    }
   ],
   "source": [
    "# ploting results\n",
    "k = 0\n",
    "colors = ['b', 'y', 'r', 'c', 'm']\n",
    "for item in zip(mu_, mu_i):\n",
    "    plt.plot(x, item[0], label=label[k], color=colors[k])\n",
    "    plt.plot(x, item[1], color=colors[k])\n",
    "    plt.fill_between(x, 0, item[1], facecolor='grey')\n",
    "    k += 1\n",
    "plt.axvline(x=y, ymin=0, ymax=1, color='black', linewidth=2, label='integral value', linestyle='-.')\n",
    "plt.legend(bbox_to_anchor=(1.05, 1), loc='upper left', borderaxespad=0.)"
   ]
  },
  {
   "cell_type": "code",
   "execution_count": null,
   "metadata": {},
   "outputs": [],
   "source": []
  }
 ],
 "metadata": {
  "kernelspec": {
   "display_name": "Python 3",
   "language": "python",
   "name": "python3"
  },
  "language_info": {
   "codemirror_mode": {
    "name": "ipython",
    "version": 3
   },
   "file_extension": ".py",
   "mimetype": "text/x-python",
   "name": "python",
   "nbconvert_exporter": "python",
   "pygments_lexer": "ipython3",
   "version": "3.7.5"
  }
 },
 "nbformat": 4,
 "nbformat_minor": 2
}
